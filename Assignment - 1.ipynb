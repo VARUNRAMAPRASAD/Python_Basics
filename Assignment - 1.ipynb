{
 "cells": [
  {
   "cell_type": "markdown",
   "metadata": {},
   "source": [
    "# PYTHON ASSIGNMENT 01 - Date( 9th May 2018)"
   ]
  },
  {
   "cell_type": "markdown",
   "metadata": {},
   "source": [
    "- Write a program find square root of a number."
   ]
  },
  {
   "cell_type": "code",
   "execution_count": 9,
   "metadata": {},
   "outputs": [
    {
     "name": "stdout",
     "output_type": "stream",
     "text": [
      "enter number: 64\n",
      "The square root of no. entered is : 8.0\n"
     ]
    }
   ],
   "source": [
    "a = float(input(\"enter number: \"))\n",
    "d = a**(1/2)\n",
    "\n",
    "print(\"The square root of no. entered is : \" + str(d))"
   ]
  },
  {
   "cell_type": "markdown",
   "metadata": {},
   "source": [
    "Python Program to find the area of triangle"
   ]
  },
  {
   "cell_type": "code",
   "execution_count": 10,
   "metadata": {},
   "outputs": [
    {
     "name": "stdout",
     "output_type": "stream",
     "text": [
      "Enter Value for base of Triangle:40\n",
      "Enter Value for height of Triangle:20\n",
      "the area of a triangle for given base and height as 40 and 20 is 400.0\n"
     ]
    }
   ],
   "source": [
    "base = int(input(\"Enter Value for base of Triangle:\"))\n",
    "height = int(input(\"Enter Value for height of Triangle:\"))\n",
    "area = (base*height)*(1/2)\n",
    "print(\"the area of a triangle for given base and height as \" + str(base)+ \" and \" + str(height) + \" is \" + str(area))"
   ]
  },
  {
   "cell_type": "markdown",
   "metadata": {},
   "source": [
    " - Python program to swap two variables provided by the user without temporary variable"
   ]
  },
  {
   "cell_type": "code",
   "execution_count": 12,
   "metadata": {},
   "outputs": [
    {
     "name": "stdout",
     "output_type": "stream",
     "text": [
      "enter 2 numbers:30,90\n",
      "Swapped digits are: (90, 30)\n"
     ]
    }
   ],
   "source": [
    "swap = lambda i1,i2 : (i2,i1)\n",
    "\n",
    "i1,i2 = input(\"enter 2 numbers:\").split(\",\")\n",
    "print(\"Swapped digits are:\" ,swap(int(i1),int(i2)))"
   ]
  },
  {
   "cell_type": "markdown",
   "metadata": {},
   "source": [
    "- Python program to check if the input year is a leap year or not"
   ]
  },
  {
   "cell_type": "code",
   "execution_count": 13,
   "metadata": {},
   "outputs": [
    {
     "name": "stdout",
     "output_type": "stream",
     "text": [
      "enter the year: 1900\n",
      "1900 is a leap year \n",
      "\n"
     ]
    }
   ],
   "source": [
    "year = int(input(\"enter the year: \"))\n",
    "if ( year%400 == 0 or year%100 == 0 or year%4 == 0 ) :\n",
    "    print(str(year)+\" is a leap year\",\"\\n\")\n",
    "else :\n",
    "    print(str(year)+\" isn't a leap year\")"
   ]
  },
  {
   "cell_type": "markdown",
   "metadata": {},
   "source": [
    " - Program to display the Fibonacci sequence up to n-th term where n is provided by the user"
   ]
  },
  {
   "cell_type": "code",
   "execution_count": 14,
   "metadata": {},
   "outputs": [
    {
     "name": "stdout",
     "output_type": "stream",
     "text": [
      "Enter the number of terms needed 6\n",
      "[1, 1, 2, 3, 5, 8]\n"
     ]
    }
   ],
   "source": [
    "try:\n",
    "   n=int(input(\"Enter the number of terms needed \"))\n",
    "except:\n",
    "    print(\"Enter a NUMERIC VALUE\")\n",
    "a=1\n",
    "b=1\n",
    "res= [a,b]\n",
    "while(n-2):\n",
    "    c= a+b\n",
    "    a=b\n",
    "    b=c\n",
    "    res.append(c)\n",
    "    n=n-1\n",
    "print(res)"
   ]
  },
  {
   "cell_type": "markdown",
   "metadata": {},
   "source": [
    " Python program to check if the number provided by the user is an Armstrong number or not"
   ]
  },
  {
   "cell_type": "code",
   "execution_count": 18,
   "metadata": {},
   "outputs": [
    {
     "name": "stdout",
     "output_type": "stream",
     "text": [
      "enter the No: 234\n",
      "sum is of digits to power  3 is:  99\n",
      "Number is not Armstrong\n"
     ]
    }
   ],
   "source": [
    "a = input(\"enter the No: \")\n",
    "vec = []\n",
    "for e in a:\n",
    "    vec.append(int(e) ** len(a))\n",
    "sum = 0\n",
    "for i in vec :\n",
    "    sum = sum+int(i)\n",
    "print(\"sum is of digits to power \", len(a) ,\"is: \" , sum)\n",
    "if sum == int(a):\n",
    "    print(\"Number is Armstrong\")\n",
    "else :\n",
    "    print(\"Number is not Armstrong\")"
   ]
  },
  {
   "cell_type": "markdown",
   "metadata": {},
   "source": [
    "- Python Program to display the powers of 2 using anonymous function"
   ]
  },
  {
   "cell_type": "code",
   "execution_count": 17,
   "metadata": {},
   "outputs": [
    {
     "name": "stdout",
     "output_type": "stream",
     "text": [
      "enter value:5\n"
     ]
    },
    {
     "data": {
      "text/plain": [
       "[2, 4, 8, 16, 32]"
      ]
     },
     "execution_count": 17,
     "metadata": {},
     "output_type": "execute_result"
    }
   ],
   "source": [
    "power = lambda i : [ 2**i for i in list(range(1,i+1))]\n",
    "i = int(input(\"enter value:\"))\n",
    "power(i)"
   ]
  }
 ],
 "metadata": {
  "kernelspec": {
   "display_name": "Python 3",
   "language": "python",
   "name": "python3"
  },
  "language_info": {
   "codemirror_mode": {
    "name": "ipython",
    "version": 3
   },
   "file_extension": ".py",
   "mimetype": "text/x-python",
   "name": "python",
   "nbconvert_exporter": "python",
   "pygments_lexer": "ipython3",
   "version": "3.6.4"
  }
 },
 "nbformat": 4,
 "nbformat_minor": 2
}
